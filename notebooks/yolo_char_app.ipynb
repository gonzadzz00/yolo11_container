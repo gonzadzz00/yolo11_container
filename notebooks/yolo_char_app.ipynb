{
 "cells": [
  {
   "cell_type": "code",
   "execution_count": 2,
   "id": "a2999a68",
   "metadata": {},
   "outputs": [
    {
     "name": "stdout",
     "output_type": "stream",
     "text": [
      "* Running on local URL:  http://127.0.0.1:7868\n",
      "* To create a public link, set `share=True` in `launch()`.\n"
     ]
    },
    {
     "data": {
      "text/html": [
       "<div><iframe src=\"http://127.0.0.1:7868/\" width=\"100%\" height=\"500\" allow=\"autoplay; camera; microphone; clipboard-read; clipboard-write;\" frameborder=\"0\" allowfullscreen></iframe></div>"
      ],
      "text/plain": [
       "<IPython.core.display.HTML object>"
      ]
     },
     "metadata": {},
     "output_type": "display_data"
    },
    {
     "name": "stdout",
     "output_type": "stream",
     "text": [
      "\n",
      "0: 448x640 2 0s, 1 1, 1 2, 1 4, 3 5s, 2 6s, 1 9, 1 G, 1 M, 1 U, 194.9ms\n",
      "Speed: 5.2ms preprocess, 194.9ms inference, 2.9ms postprocess per image at shape (1, 3, 448, 640)\n",
      "\n",
      "0: 448x640 1 3, 4 4s, 3 5s, 2 6s, 2 7s, 3 Cs, 1 S, 1 U, 141.9ms\n",
      "Speed: 6.9ms preprocess, 141.9ms inference, 2.2ms postprocess per image at shape (1, 3, 448, 640)\n",
      "\n",
      "0: 640x480 10 0s, 1 1, 20 2s, 5 3s, 9 4s, 4 6s, 4 7s, 4 8s, 6 9s, 2 As, 2 Bs, 6 Cs, 1 E, 1 F, 2 Gs, 1 I, 3 Ks, 1 M, 3 Rs, 2 Ss, 1 T, 2 Us, 1 X, 150.1ms\n",
      "Speed: 10.2ms preprocess, 150.1ms inference, 6.7ms postprocess per image at shape (1, 3, 640, 480)\n",
      "\n",
      "0: 448x640 2 0s, 1 1, 1 2, 1 4, 3 5s, 2 6s, 1 9, 1 G, 1 M, 1 U, 226.8ms\n",
      "Speed: 6.0ms preprocess, 226.8ms inference, 2.5ms postprocess per image at shape (1, 3, 448, 640)\n"
     ]
    }
   ],
   "source": [
    "import gradio as gr\n",
    "from ultralytics import YOLO\n",
    "from PIL import Image\n",
    "import numpy as np\n",
    "\n",
    "# Cargar modelo YOLO\n",
    "char_model = YOLO(\"/home/gnz/GitHub/yolo11_container/YOLO_Characters/Character_YOLO_container_finetune_large/weights/best.pt\")\n",
    "\n",
    "def predict(image):\n",
    "    # 1. Detección\n",
    "    results = char_model.predict(image, conf=0.25)[0]  # Tomamos el primer batch\n",
    "\n",
    "    # 2. Imagen con bounding boxes\n",
    "    img_with_boxes = results.plot()\n",
    "    img_with_boxes_pil = Image.fromarray(img_with_boxes)\n",
    "\n",
    "    crops = []\n",
    "    ocr_results = []\n",
    "\n",
    "    # 3. Recorrer cada detección\n",
    "    for box, cls, conf in zip(results.boxes.xyxy, results.boxes.cls, results.boxes.conf):\n",
    "        x1, y1, x2, y2 = map(int, box)\n",
    "        crop = image.crop((x1, y1, x2, y2))\n",
    "        crops.append(crop)\n",
    "\n",
    "        ocr_results.append({\n",
    "            \"class\": int(cls),   # o str(results.names[int(cls)]) si querés nombres\n",
    "            \"confidence\": float(conf)\n",
    "        })\n",
    "\n",
    "    return img_with_boxes_pil, crops, ocr_results\n",
    "\n",
    "\n",
    "# 4. Interfaz Gradio\n",
    "demo = gr.Interface(\n",
    "    fn=predict,\n",
    "    inputs=gr.Image(type=\"pil\"),\n",
    "    outputs=[\n",
    "        gr.Image(type=\"pil\", label=\"Detección IDs\"),\n",
    "        gr.Gallery(label=\"Crops con OCR\", columns=2, height=\"auto\"),     \n",
    "        gr.JSON(label=\"Resultados OCR\")\n",
    "    ],\n",
    "    title=\"Container Character Classification\",\n",
    "    description=\"Detecta caracteres de contenedores.\"\n",
    ")\n",
    "\n",
    "if __name__ == \"__main__\":\n",
    "    demo.launch()\n"
   ]
  }
 ],
 "metadata": {
  "kernelspec": {
   "display_name": ".venv",
   "language": "python",
   "name": "python3"
  },
  "language_info": {
   "codemirror_mode": {
    "name": "ipython",
    "version": 3
   },
   "file_extension": ".py",
   "mimetype": "text/x-python",
   "name": "python",
   "nbconvert_exporter": "python",
   "pygments_lexer": "ipython3",
   "version": "3.12.3"
  }
 },
 "nbformat": 4,
 "nbformat_minor": 5
}
