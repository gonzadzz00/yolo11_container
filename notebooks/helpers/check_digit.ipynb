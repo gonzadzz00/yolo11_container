{
 "cells": [
  {
   "cell_type": "code",
   "execution_count": 1,
   "id": "32e0130e",
   "metadata": {},
   "outputs": [],
   "source": [
    "# Calculate the check-digit of the container number\n",
    "# input: container_code, first 10 characters of the container number\n",
    "# output: check-digit, the 11th chracter\n",
    "def calculate_check_digit(container_code):\n",
    "    # Mapping letters to their corresponding values\n",
    "    letter_values = {\n",
    "        'A': 10, 'B': 12, 'C': 13, 'D': 14, 'E': 15, 'F': 16, 'G': 17, 'H': 18, 'I': 19, 'J': 20,\n",
    "        'K': 21, 'L': 23, 'M': 24, 'N': 25, 'O': 26, 'P': 27, 'Q': 28, 'R': 29, 'S': 30, 'T': 31,\n",
    "        'U': 32, 'V': 34, 'W': 35, 'X': 36, 'Y': 37, 'Z': 38\n",
    "    }\n",
    "\n",
    "    # Convert the container code into its corresponding values\n",
    "    values = []\n",
    "    for char in container_code:\n",
    "        if char.isalpha():\n",
    "            values.append(letter_values[char])\n",
    "        else:\n",
    "            values.append(int(char))\n",
    "\n",
    "    # Calculate the sum of the values multiplied by 2^(position-1)\n",
    "    total = sum(val * (2 ** i) for i, val in enumerate(values))\n",
    "\n",
    "    # Calculate the check digit as the remainder of division by 11\n",
    "    check_digit = total % 11\n",
    "    # If the remainder is 10, the check digit is 0\n",
    "    if check_digit == 10:\n",
    "        check_digit = 0\n",
    "\n",
    "    return check_digit\n"
   ]
  },
  {
   "cell_type": "code",
   "execution_count": 4,
   "id": "2e8ae702",
   "metadata": {},
   "outputs": [
    {
     "data": {
      "text/plain": [
       "7"
      ]
     },
     "execution_count": 4,
     "metadata": {},
     "output_type": "execute_result"
    }
   ],
   "source": [
    "calculate_check_digit(\"SEGU173295\")  # ejemplo de uso"
   ]
  },
  {
   "cell_type": "code",
   "execution_count": null,
   "id": "4a9ed2c2",
   "metadata": {},
   "outputs": [],
   "source": []
  }
 ],
 "metadata": {
  "kernelspec": {
   "display_name": ".venv",
   "language": "python",
   "name": "python3"
  },
  "language_info": {
   "codemirror_mode": {
    "name": "ipython",
    "version": 3
   },
   "file_extension": ".py",
   "mimetype": "text/x-python",
   "name": "python",
   "nbconvert_exporter": "python",
   "pygments_lexer": "ipython3",
   "version": "3.12.3"
  }
 },
 "nbformat": 4,
 "nbformat_minor": 5
}
