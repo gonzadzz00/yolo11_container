{
 "cells": [
  {
   "cell_type": "code",
   "execution_count": 9,
   "id": "eb8da28d",
   "metadata": {},
   "outputs": [
    {
     "name": "stderr",
     "output_type": "stream",
     "text": [
      "\u001b[32mCreating model: ('PP-LCNet_x1_0_doc_ori', None)\u001b[0m\n",
      "\u001b[32mModel files already exist. Using cached files. To redownload, please delete the directory manually: `/home/gnz/.paddlex/official_models/PP-LCNet_x1_0_doc_ori`.\u001b[0m\n",
      "\u001b[32mCreating model: ('UVDoc', None)\u001b[0m\n",
      "\u001b[32mModel files already exist. Using cached files. To redownload, please delete the directory manually: `/home/gnz/.paddlex/official_models/UVDoc`.\u001b[0m\n",
      "\u001b[32mCreating model: ('PP-LCNet_x1_0_textline_ori', None)\u001b[0m\n",
      "\u001b[32mModel files already exist. Using cached files. To redownload, please delete the directory manually: `/home/gnz/.paddlex/official_models/PP-LCNet_x1_0_textline_ori`.\u001b[0m\n",
      "\u001b[32mCreating model: ('PP-OCRv5_server_det', None)\u001b[0m\n",
      "\u001b[32mModel files already exist. Using cached files. To redownload, please delete the directory manually: `/home/gnz/.paddlex/official_models/PP-OCRv5_server_det`.\u001b[0m\n",
      "\u001b[32mCreating model: ('en_PP-OCRv5_mobile_rec', None)\u001b[0m\n",
      "\u001b[32mModel files already exist. Using cached files. To redownload, please delete the directory manually: `/home/gnz/.paddlex/official_models/en_PP-OCRv5_mobile_rec`.\u001b[0m\n"
     ]
    }
   ],
   "source": [
    "import gradio as gr\n",
    "import numpy as np\n",
    "import cv2\n",
    "from ultralytics import YOLO\n",
    "from paddleocr import TextRecognition, PaddleOCR\n",
    "from PIL import Image\n",
    "\n",
    "\n",
    "# --- Cargar modelos ---\n",
    "yolo_model = YOLO(\"/home/gnz/GitHub/yolo11_container/runs/detect/train2/weights/best.pt\")\n",
    "ocr_model = PaddleOCR(lang='en', use_textline_orientation=True)\n"
   ]
  },
  {
   "cell_type": "code",
   "execution_count": null,
   "id": "d165b8cc",
   "metadata": {},
   "outputs": [
    {
     "name": "stdout",
     "output_type": "stream",
     "text": [
      "* Running on local URL:  http://127.0.0.1:7878\n",
      "* To create a public link, set `share=True` in `launch()`.\n"
     ]
    },
    {
     "data": {
      "text/html": [
       "<div><iframe src=\"http://127.0.0.1:7878/\" width=\"100%\" height=\"500\" allow=\"autoplay; camera; microphone; clipboard-read; clipboard-write;\" frameborder=\"0\" allowfullscreen></iframe></div>"
      ],
      "text/plain": [
       "<IPython.core.display.HTML object>"
      ]
     },
     "metadata": {},
     "output_type": "display_data"
    },
    {
     "data": {
      "text/plain": []
     },
     "execution_count": 10,
     "metadata": {},
     "output_type": "execute_result"
    },
    {
     "name": "stderr",
     "output_type": "stream",
     "text": [
      "\u001b[33mNot supported input data type! Only `numpy.ndarray` and `str` are supported! So has been ignored: <PIL.Image.Image image mode=RGB size=125x64 at 0x7F7C698D2780>.\u001b[0m\n",
      "\u001b[33mNot supported input data type! Only `numpy.ndarray` and `str` are supported! So has been ignored: <PIL.Image.Image image mode=RGB size=139x64 at 0x7F7C69E6E030>.\u001b[0m\n",
      "\u001b[33mNot supported input data type! Only `numpy.ndarray` and `str` are supported! So has been ignored: <PIL.Image.Image image mode=RGB size=274x69 at 0x7F7C203A2930>.\u001b[0m\n"
     ]
    }
   ],
   "source": [
    "def process_image(image):\n",
    "\n",
    "    img = cv2.cvtColor(image, cv2.COLOR_BGR2RGB)\n",
    "    results = yolo_model.predict(img, conf=0.25, verbose=False)\n",
    "\n",
    "    annotated = results[0].plot()\n",
    "    crops, texts = [], []\n",
    "\n",
    "    for box in results[0].boxes:\n",
    "        x1, y1, x2, y2 = map(int, box.xyxy[0].tolist())\n",
    "        crop = img[y1:y2, x1:x2]\n",
    "\n",
    "        # --- Convertir crop a PIL para TextRecognition ---\n",
    "        crop_pil = Image.fromarray(crop.astype(np.uint8))\n",
    "\n",
    "        # --- OCR ---\n",
    "        ocr_result = ocr_model.predict(crop_pil)\n",
    "        texts_in_crop = [res['text'] for res in ocr_result if res.get('text')]\n",
    "\n",
    "        crops.append(crop)\n",
    "        texts.append(\" \".join(texts_in_crop) if texts_in_crop else \"(sin texto)\")\n",
    "\n",
    "    return annotated, crops, \"\\n\".join(texts)\n",
    "\n",
    "\n",
    "# --- Interfaz Gradio ---\n",
    "with gr.Blocks() as demo:\n",
    "    gr.Markdown(\"## 🚢 Detección de IDs y OCR en Contenedores (Inglés)\")\n",
    "\n",
    "    with gr.Row():\n",
    "        inp_img = gr.Image(type=\"numpy\", label=\"Sube una imagen\")\n",
    "        out_img = gr.Image(type=\"numpy\", label=\"Imagen anotada\")\n",
    "    gallery = gr.Gallery(label=\"Crops detectados\", columns=3, height=\"auto\")\n",
    "    out_texts = gr.Textbox(label=\"Resultados OCR\", lines=6)\n",
    "\n",
    "    inp_img.change(process_image, inputs=inp_img, outputs=[out_img, gallery, out_texts])\n",
    "\n",
    "demo.launch()"
   ]
  }
 ],
 "metadata": {
  "kernelspec": {
   "display_name": ".venv",
   "language": "python",
   "name": "python3"
  },
  "language_info": {
   "codemirror_mode": {
    "name": "ipython",
    "version": 3
   },
   "file_extension": ".py",
   "mimetype": "text/x-python",
   "name": "python",
   "nbconvert_exporter": "python",
   "pygments_lexer": "ipython3",
   "version": "3.12.3"
  }
 },
 "nbformat": 4,
 "nbformat_minor": 5
}
