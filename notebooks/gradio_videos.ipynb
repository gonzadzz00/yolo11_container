{
 "cells": [
  {
   "cell_type": "code",
   "execution_count": 3,
   "id": "a57bbed0",
   "metadata": {},
   "outputs": [
    {
     "name": "stderr",
     "output_type": "stream",
     "text": [
      "Neither CUDA nor MPS are available - defaulting to CPU. Note: This module is much faster with a GPU.\n"
     ]
    }
   ],
   "source": [
    "import gradio as gr\n",
    "from ultralytics import YOLO\n",
    "import cv2\n",
    "import tempfile\n",
    "import os\n",
    "import easyocr\n",
    "\n",
    "# Cargar modelo entrenado\n",
    "model = YOLO(\"/home/gnz/GitHub/yolo11_container/runs/detect/train/weights/best.pt\")\n",
    "\n",
    "# Inicializar EasyOCR ---\n",
    "reader = easyocr.Reader(['en','es'])  # podés agregar ['en', 'es'] si querés español"
   ]
  },
  {
   "cell_type": "code",
   "execution_count": null,
   "id": "34797256",
   "metadata": {},
   "outputs": [
    {
     "name": "stdout",
     "output_type": "stream",
     "text": [
      "* Running on local URL:  http://127.0.0.1:7860\n",
      "* To create a public link, set `share=True` in `launch()`.\n"
     ]
    },
    {
     "data": {
      "text/html": [
       "<div><iframe src=\"http://127.0.0.1:7860/\" width=\"100%\" height=\"500\" allow=\"autoplay; camera; microphone; clipboard-read; clipboard-write;\" frameborder=\"0\" allowfullscreen></iframe></div>"
      ],
      "text/plain": [
       "<IPython.core.display.HTML object>"
      ]
     },
     "metadata": {},
     "output_type": "display_data"
    },
    {
     "data": {
      "text/plain": []
     },
     "execution_count": 5,
     "metadata": {},
     "output_type": "execute_result"
    },
    {
     "name": "stderr",
     "output_type": "stream",
     "text": [
      "/home/gnz/GitHub/yolo11_container/.venv/lib/python3.12/site-packages/torch/utils/data/dataloader.py:666: UserWarning: 'pin_memory' argument is set as true but no accelerator is found, then device pinned memory won't be used.\n",
      "  warnings.warn(warn_msg)\n"
     ]
    }
   ],
   "source": [
    "# --- procesamiento de imágenes ---\n",
    "def process_image(image):\n",
    "    # convertir a RGB\n",
    "    img = cv2.cvtColor(image, cv2.COLOR_BGR2RGB)\n",
    "    results = model.predict(img, conf=0.25, verbose=False)\n",
    "\n",
    "    annotated = results[0].plot()\n",
    "    crops, texts = [], []\n",
    "\n",
    "    # extraer crops + OCR\n",
    "    for box in results[0].boxes:\n",
    "        x1, y1, x2, y2 = map(int, box.xyxy[0].tolist())\n",
    "        crop = img[y1:y2, x1:x2]\n",
    "        crops.append(crop)\n",
    "\n",
    "        ocr_result = reader.readtext(crop)\n",
    "        text = \" \".join([res[1] for res in ocr_result]) if ocr_result else \"(sin texto)\"\n",
    "        texts.append(text)\n",
    "\n",
    "    return annotated, crops, texts\n",
    "\n",
    "\n",
    "# --- procesamiento de videos ---\n",
    "def process_video(video_path):\n",
    "    cap = cv2.VideoCapture(video_path)\n",
    "    fps = int(cap.get(cv2.CAP_PROP_FPS))\n",
    "    w = int(cap.get(cv2.CAP_PROP_FRAME_WIDTH))\n",
    "    h = int(cap.get(cv2.CAP_PROP_FRAME_HEIGHT))\n",
    "\n",
    "    # archivo temporal de salida\n",
    "    temp_out = tempfile.NamedTemporaryFile(delete=False, suffix=\".mp4\")\n",
    "    out = cv2.VideoWriter(temp_out.name, cv2.VideoWriter_fourcc(*\"mp4v\"), fps, (w, h))\n",
    "\n",
    "    while True:\n",
    "        ret, frame = cap.read()\n",
    "        if not ret:\n",
    "            break\n",
    "\n",
    "        # predicción por frame\n",
    "        results = model.predict(frame, conf=0.25, verbose=False)\n",
    "        annotated = results[0].plot()\n",
    "        out.write(annotated)\n",
    "\n",
    "    cap.release()\n",
    "    out.release()\n",
    "    return temp_out.name\n",
    "\n",
    "\n",
    "# --- Interfaz Gradio ---\n",
    "with gr.Blocks() as demo:\n",
    "    gr.Markdown(\"## 🚢 Detección de IDs y OCR en Contenedores\")\n",
    "\n",
    "    with gr.Tab(\"Imagen\"):\n",
    "        with gr.Row():\n",
    "            inp_img = gr.Image(type=\"numpy\", label=\"Sube una imagen\")\n",
    "            out_img = gr.Image(type=\"numpy\", label=\"Detecciones\")\n",
    "        gallery = gr.Gallery(label=\"Crops detectados\", columns=3, height=\"auto\")\n",
    "        out_texts = gr.Textbox(label=\"Resultados OCR\", lines=6)\n",
    "\n",
    "        inp_img.change(process_image, inputs=inp_img, outputs=[out_img, gallery, out_texts])\n",
    "\n",
    "    with gr.Tab(\"Video\"):\n",
    "        inp_vid = gr.Video(label=\"Sube un video\")\n",
    "        out_vid = gr.Video(label=\"Video con detecciones\")\n",
    "\n",
    "        inp_vid.change(process_video, inputs=inp_vid, outputs=out_vid)\n",
    "\n",
    "demo.launch()\n"
   ]
  },
  {
   "cell_type": "code",
   "execution_count": null,
   "id": "92735209",
   "metadata": {},
   "outputs": [],
   "source": []
  }
 ],
 "metadata": {
  "kernelspec": {
   "display_name": ".venv",
   "language": "python",
   "name": "python3"
  },
  "language_info": {
   "codemirror_mode": {
    "name": "ipython",
    "version": 3
   },
   "file_extension": ".py",
   "mimetype": "text/x-python",
   "name": "python",
   "nbconvert_exporter": "python",
   "pygments_lexer": "ipython3",
   "version": "3.12.3"
  }
 },
 "nbformat": 4,
 "nbformat_minor": 5
}
