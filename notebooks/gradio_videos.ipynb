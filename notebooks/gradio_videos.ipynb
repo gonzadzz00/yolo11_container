{
 "cells": [
  {
   "cell_type": "code",
   "execution_count": 19,
   "id": "a57bbed0",
   "metadata": {},
   "outputs": [
    {
     "name": "stderr",
     "output_type": "stream",
     "text": [
      "\u001b[32mModel files already exist. Using cached files. To redownload, please delete the directory manually: `/home/gnz/.paddlex/official_models/PP-OCRv5_server_rec`.\u001b[0m\n"
     ]
    }
   ],
   "source": [
    "import gradio as gr\n",
    "from ultralytics import YOLO\n",
    "import cv2\n",
    "import tempfile\n",
    "import os\n",
    "import easyocr\n",
    "from paddleocr import PaddleOCR, TextRecognition\n",
    "import re\n",
    "\n",
    "\n",
    "# --- Cargar modelos ---\n",
    "\n",
    "ocr_model = TextRecognition(model_name=\"PP-OCRv5_server_rec\")\n",
    "# reader = PaddleOCR(use_textline_orientation=True, lang=\"en\")  # Ajustar idioma según necesites\n",
    "\n",
    "model = YOLO(\"/home/gnz/GitHub/yolo11_container/runs/detect/train2/weights/best.pt\")\n",
    "\n",
    "# Inicializar EasyOCR ---\n",
    "# reader = easyocr.Reader(['en','es'])  # podés agregar ['en', 'es'] si querés español"
   ]
  },
  {
   "cell_type": "code",
   "execution_count": null,
   "id": "34797256",
   "metadata": {},
   "outputs": [
    {
     "name": "stdout",
     "output_type": "stream",
     "text": [
      "* Running on local URL:  http://127.0.0.1:7873\n",
      "* To create a public link, set `share=True` in `launch()`.\n"
     ]
    },
    {
     "data": {
      "text/html": [
       "<div><iframe src=\"http://127.0.0.1:7873/\" width=\"100%\" height=\"500\" allow=\"autoplay; camera; microphone; clipboard-read; clipboard-write;\" frameborder=\"0\" allowfullscreen></iframe></div>"
      ],
      "text/plain": [
       "<IPython.core.display.HTML object>"
      ]
     },
     "metadata": {},
     "output_type": "display_data"
    },
    {
     "data": {
      "text/plain": []
     },
     "execution_count": 22,
     "metadata": {},
     "output_type": "execute_result"
    },
    {
     "ename": "",
     "evalue": "",
     "output_type": "error",
     "traceback": [
      "\u001b[1;31mThe Kernel crashed while executing code in the current cell or a previous cell. \n",
      "\u001b[1;31mPlease review the code in the cell(s) to identify a possible cause of the failure. \n",
      "\u001b[1;31mClick <a href='https://aka.ms/vscodeJupyterKernelCrash'>here</a> for more info. \n",
      "\u001b[1;31mView Jupyter <a href='command:jupyter.viewOutput'>log</a> for further details."
     ]
    }
   ],
   "source": [
    "def process_image(image):\n",
    "    if image is None:\n",
    "        return None, [], \"\"\n",
    "\n",
    "    # Convertir BGR a RGB\n",
    "    img = cv2.cvtColor(image, cv2.COLOR_BGR2RGB)\n",
    "    results = model.predict(img, conf=0.25, verbose=False)\n",
    "\n",
    "    annotated = results[0].plot()\n",
    "    crops, texts = [], []\n",
    "\n",
    "    for box in results[0].boxes:\n",
    "        x1, y1, x2, y2 = map(int, box.xyxy[0].tolist())\n",
    "        crop = img[y1:y2, x1:x2]\n",
    "\n",
    "        # --- Preprocesamiento estilo PaddleOCR app.py ---\n",
    "        gray = cv2.cvtColor(crop, cv2.COLOR_RGB2GRAY)\n",
    "        _, binarized = cv2.threshold(gray, 0, 255, cv2.THRESH_BINARY + cv2.THRESH_OTSU)\n",
    "        resized = cv2.resize(binarized, None, fx=2, fy=2, interpolation=cv2.INTER_CUBIC)\n",
    "        crop_rgb = cv2.cvtColor(resized, cv2.COLOR_GRAY2RGB)\n",
    "\n",
    "        # --- OCR con TextRecognition ---\n",
    "        ocr_result = ocr_model.predict(crop_rgb)  # Lista de dicts: {'text': ..., 'score': ...}\n",
    "        texts_in_crop = [res['text'] for res in ocr_result if res.get('text')]\n",
    "\n",
    "        crops.append(crop)\n",
    "        texts.append(\" \".join(texts_in_crop) if texts_in_crop else \"(sin texto)\")\n",
    "\n",
    "    return annotated, crops, \"\\n\".join(texts)\n",
    "\n",
    "\n",
    "\n",
    "\n",
    "# --- Interfaz Gradio ---\n",
    "with gr.Blocks() as demo:\n",
    "    gr.Markdown(\"## 🚢 Detección de IDs y OCR en Contenedores (Solo imágenes)\")\n",
    "\n",
    "    with gr.Row():\n",
    "        inp_img = gr.Image(type=\"numpy\", label=\"Sube una imagen\")\n",
    "        out_img = gr.Image(type=\"numpy\", label=\"Detecciones\")\n",
    "    gallery = gr.Gallery(label=\"Crops detectados\", columns=3, height=\"auto\")\n",
    "    out_texts = gr.Textbox(label=\"Resultados OCR\", lines=6)\n",
    "\n",
    "    inp_img.change(process_image, inputs=inp_img, outputs=[out_img, gallery, out_texts])\n",
    "\n",
    "demo.launch()\n"
   ]
  },
  {
   "cell_type": "code",
   "execution_count": null,
   "id": "92735209",
   "metadata": {},
   "outputs": [],
   "source": []
  }
 ],
 "metadata": {
  "kernelspec": {
   "display_name": ".venv",
   "language": "python",
   "name": "python3"
  },
  "language_info": {
   "codemirror_mode": {
    "name": "ipython",
    "version": 3
   },
   "file_extension": ".py",
   "mimetype": "text/x-python",
   "name": "python",
   "nbconvert_exporter": "python",
   "pygments_lexer": "ipython3",
   "version": "3.12.3"
  }
 },
 "nbformat": 4,
 "nbformat_minor": 5
}
