{
 "cells": [
  {
   "cell_type": "code",
   "execution_count": 12,
   "id": "a57bbed0",
   "metadata": {},
   "outputs": [
    {
     "name": "stderr",
     "output_type": "stream",
     "text": [
      "Neither CUDA nor MPS are available - defaulting to CPU. Note: This module is much faster with a GPU.\n"
     ]
    }
   ],
   "source": [
    "import gradio as gr\n",
    "from ultralytics import YOLO\n",
    "from PIL import Image\n",
    "import easyocr\n",
    "\n",
    "# Cargar modelo entrenado\n",
    "model = YOLO(\"/home/gnz/GitHub/yolo11_container/runs/detect/train/weights/best.pt\")\n",
    "\n",
    "# Inicializar OCR (idioma inglés, podés agregar otros ej. ['en','es'])\n",
    "reader = easyocr.Reader(['en','es'])\n"
   ]
  },
  {
   "cell_type": "code",
   "execution_count": null,
   "id": "34797256",
   "metadata": {},
   "outputs": [
    {
     "name": "stdout",
     "output_type": "stream",
     "text": [
      "* Running on local URL:  http://0.0.0.0:7866\n",
      "* To create a public link, set `share=True` in `launch()`.\n"
     ]
    },
    {
     "data": {
      "text/html": [
       "<div><iframe src=\"http://localhost:7866/\" width=\"100%\" height=\"500\" allow=\"autoplay; camera; microphone; clipboard-read; clipboard-write;\" frameborder=\"0\" allowfullscreen></iframe></div>"
      ],
      "text/plain": [
       "<IPython.core.display.HTML object>"
      ]
     },
     "metadata": {},
     "output_type": "display_data"
    },
    {
     "data": {
      "text/plain": []
     },
     "execution_count": 13,
     "metadata": {},
     "output_type": "execute_result"
    },
    {
     "name": "stderr",
     "output_type": "stream",
     "text": [
      "/home/gnz/GitHub/yolo11_container/.venv/lib/python3.12/site-packages/torch/utils/data/dataloader.py:666: UserWarning: 'pin_memory' argument is set as true but no accelerator is found, then device pinned memory won't be used.\n",
      "  warnings.warn(warn_msg)\n",
      "/home/gnz/GitHub/yolo11_container/.venv/lib/python3.12/site-packages/torch/utils/data/dataloader.py:666: UserWarning: 'pin_memory' argument is set as true but no accelerator is found, then device pinned memory won't be used.\n",
      "  warnings.warn(warn_msg)\n",
      "/home/gnz/GitHub/yolo11_container/.venv/lib/python3.12/site-packages/torch/utils/data/dataloader.py:666: UserWarning: 'pin_memory' argument is set as true but no accelerator is found, then device pinned memory won't be used.\n",
      "  warnings.warn(warn_msg)\n",
      "/home/gnz/GitHub/yolo11_container/.venv/lib/python3.12/site-packages/torch/utils/data/dataloader.py:666: UserWarning: 'pin_memory' argument is set as true but no accelerator is found, then device pinned memory won't be used.\n",
      "  warnings.warn(warn_msg)\n",
      "/home/gnz/GitHub/yolo11_container/.venv/lib/python3.12/site-packages/torch/utils/data/dataloader.py:666: UserWarning: 'pin_memory' argument is set as true but no accelerator is found, then device pinned memory won't be used.\n",
      "  warnings.warn(warn_msg)\n",
      "/home/gnz/GitHub/yolo11_container/.venv/lib/python3.12/site-packages/torch/utils/data/dataloader.py:666: UserWarning: 'pin_memory' argument is set as true but no accelerator is found, then device pinned memory won't be used.\n",
      "  warnings.warn(warn_msg)\n",
      "/home/gnz/GitHub/yolo11_container/.venv/lib/python3.12/site-packages/torch/utils/data/dataloader.py:666: UserWarning: 'pin_memory' argument is set as true but no accelerator is found, then device pinned memory won't be used.\n",
      "  warnings.warn(warn_msg)\n"
     ]
    }
   ],
   "source": [
    "# Función de predicción con cropeo + OCR\n",
    "def predict_with_ocr(image):\n",
    "    results = model.predict(image, conf=0.25, verbose=False)\n",
    "\n",
    "    # Imagen anotada con bounding boxes\n",
    "    img_with_boxes = results[0].plot()\n",
    "\n",
    "    crops_with_text = []\n",
    "    for i, box in enumerate(results[0].boxes):\n",
    "        x1, y1, x2, y2 = map(int, box.xyxy[0].tolist())\n",
    "        crop = image[y1:y2, x1:x2]\n",
    "\n",
    "        # OCR sobre el recorte\n",
    "        ocr_result = reader.readtext(crop)\n",
    "        if ocr_result:\n",
    "            text = \" \".join([res[1] for res in ocr_result])  # concatenar resultados\n",
    "        else:\n",
    "            text = \"(sin texto detectado)\"\n",
    "\n",
    "        # Guardar crop y texto asociado\n",
    "        crops_with_text.append((Image.fromarray(crop), text))\n",
    "\n",
    "    return img_with_boxes, crops_with_text\n",
    "\n",
    "# Interfaz Gradio\n",
    "with gr.Blocks() as demo:\n",
    "    gr.Markdown(\"## 🚢 Container OCR Detector con YOLO + EasyOCR\")\n",
    "    gr.Markdown(\"Subí una imagen de un contenedor. El modelo detecta los códigos, recorta las regiones y aplica OCR para mostrar el texto.\")\n",
    "\n",
    "    with gr.Row():\n",
    "        inp = gr.Image(type=\"numpy\", label=\"Imagen de entrada\")\n",
    "\n",
    "    with gr.Row():\n",
    "        out_img = gr.Image(type=\"numpy\", label=\"Resultado con bounding boxes\")\n",
    "\n",
    "    with gr.Row():\n",
    "        out_gallery = gr.Gallery(label=\"Crops + OCR\", columns=2, height=\"auto\")\n",
    "\n",
    "    btn = gr.Button(\"Detectar, recortar y leer texto\")\n",
    "    btn.click(fn=predict_with_ocr, inputs=inp, outputs=[out_img, out_gallery])\n",
    "\n",
    "demo.launch(server_name=\"0.0.0.0\", server_port=7866)"
   ]
  },
  {
   "cell_type": "code",
   "execution_count": null,
   "id": "92735209",
   "metadata": {},
   "outputs": [],
   "source": []
  }
 ],
 "metadata": {
  "kernelspec": {
   "display_name": ".venv",
   "language": "python",
   "name": "python3"
  },
  "language_info": {
   "codemirror_mode": {
    "name": "ipython",
    "version": 3
   },
   "file_extension": ".py",
   "mimetype": "text/x-python",
   "name": "python",
   "nbconvert_exporter": "python",
   "pygments_lexer": "ipython3",
   "version": "3.12.3"
  }
 },
 "nbformat": 4,
 "nbformat_minor": 5
}
