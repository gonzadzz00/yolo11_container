{
 "cells": [
  {
   "cell_type": "code",
   "execution_count": 9,
   "id": "a57bbed0",
   "metadata": {},
   "outputs": [],
   "source": [
    "import gradio as gr\n",
    "from ultralytics import YOLO\n",
    "from PIL import Image\n",
    "import numpy as np\n",
    "\n",
    "# Cargar modelo entrenado\n",
    "model = YOLO(\"/home/gnz/GitHub/yolo11_container/runs/detect/train/weights/best.pt\")\n"
   ]
  },
  {
   "cell_type": "code",
   "execution_count": null,
   "id": "34797256",
   "metadata": {},
   "outputs": [
    {
     "ename": "AttributeError",
     "evalue": "'Gallery' object has no attribute 'style'",
     "output_type": "error",
     "traceback": [
      "\u001b[31m---------------------------------------------------------------------------\u001b[39m",
      "\u001b[31mAttributeError\u001b[39m                            Traceback (most recent call last)",
      "\u001b[36mCell\u001b[39m\u001b[36m \u001b[39m\u001b[32mIn[10]\u001b[39m\u001b[32m, line 33\u001b[39m\n\u001b[32m     30\u001b[39m     out_img = gr.Image(\u001b[38;5;28mtype\u001b[39m=\u001b[33m\"\u001b[39m\u001b[33mnumpy\u001b[39m\u001b[33m\"\u001b[39m, label=\u001b[33m\"\u001b[39m\u001b[33mResultado con bounding boxes\u001b[39m\u001b[33m\"\u001b[39m)\n\u001b[32m     32\u001b[39m \u001b[38;5;28;01mwith\u001b[39;00m gr.Row():\n\u001b[32m---> \u001b[39m\u001b[32m33\u001b[39m     out_crops = \u001b[43mgr\u001b[49m\u001b[43m.\u001b[49m\u001b[43mGallery\u001b[49m\u001b[43m(\u001b[49m\u001b[43mlabel\u001b[49m\u001b[43m=\u001b[49m\u001b[33;43m\"\u001b[39;49m\u001b[33;43mCrops detectados\u001b[39;49m\u001b[33;43m\"\u001b[39;49m\u001b[43m,\u001b[49m\u001b[43m \u001b[49m\u001b[43mshow_label\u001b[49m\u001b[43m=\u001b[49m\u001b[38;5;28;43;01mTrue\u001b[39;49;00m\u001b[43m)\u001b[49m\u001b[43m.\u001b[49m\u001b[43mstyle\u001b[49m(grid=[\u001b[32m2\u001b[39m], height=\u001b[33m\"\u001b[39m\u001b[33mauto\u001b[39m\u001b[33m\"\u001b[39m)\n\u001b[32m     35\u001b[39m btn = gr.Button(\u001b[33m\"\u001b[39m\u001b[33mDetectar y recortar\u001b[39m\u001b[33m\"\u001b[39m)\n\u001b[32m     36\u001b[39m btn.click(fn=predict_with_crops, inputs=inp, outputs=[out_img, out_crops])\n",
      "\u001b[31mAttributeError\u001b[39m: 'Gallery' object has no attribute 'style'"
     ]
    }
   ],
   "source": [
    "# Función de predicción con cropeo\n",
    "def predict_with_crops(image):\n",
    "    results = model.predict(image, conf=0.25, verbose=False)\n",
    "\n",
    "    # Imagen anotada con bounding boxes\n",
    "    img_with_boxes = results[0].plot()\n",
    "\n",
    "    # Obtener crops de cada detección\n",
    "    crops = []\n",
    "    for box in results[0].boxes:\n",
    "        # Extraer coordenadas\n",
    "        x1, y1, x2, y2 = map(int, box.xyxy[0].tolist())\n",
    "        crop = image[y1:y2, x1:x2]  # crop sobre el array original\n",
    "        crops.append(crop)\n",
    "\n",
    "    # Convertir crops a lista de PIL images\n",
    "    crop_images = [Image.fromarray(c) for c in crops]\n",
    "\n",
    "    return img_with_boxes, crop_images\n",
    "\n",
    "# Interfaz Gradio\n",
    "with gr.Blocks() as demo:\n",
    "    gr.Markdown(\"## 🚢 Container OCR Detector con Crops\")\n",
    "    gr.Markdown(\"Subí una imagen de un contenedor. El modelo dibuja los bounding boxes y devuelve también los recortes de cada detección.\")\n",
    "\n",
    "    with gr.Row():\n",
    "        inp = gr.Image(type=\"numpy\", label=\"Imagen de entrada\")\n",
    "    \n",
    "    with gr.Row():\n",
    "        out_img = gr.Image(type=\"numpy\", label=\"Resultado con bounding boxes\")\n",
    "    \n",
    "    with gr.Row():\n",
    "        out_crops = gr.Gallery(label=\"Crops detectados\", columns=2, height=\"auto\")\n",
    "        \n",
    "\n",
    "    btn = gr.Button(\"Detectar y recortar\")\n",
    "    btn.click(fn=predict_with_crops, inputs=inp, outputs=[out_img, out_crops])\n",
    "\n",
    "demo.launch(server_name=\"0.0.0.0\", server_port=7865)"
   ]
  },
  {
   "cell_type": "code",
   "execution_count": null,
   "id": "92735209",
   "metadata": {},
   "outputs": [],
   "source": []
  }
 ],
 "metadata": {
  "kernelspec": {
   "display_name": ".venv",
   "language": "python",
   "name": "python3"
  },
  "language_info": {
   "codemirror_mode": {
    "name": "ipython",
    "version": 3
   },
   "file_extension": ".py",
   "mimetype": "text/x-python",
   "name": "python",
   "nbconvert_exporter": "python",
   "pygments_lexer": "ipython3",
   "version": "3.12.3"
  }
 },
 "nbformat": 4,
 "nbformat_minor": 5
}
