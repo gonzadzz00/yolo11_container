{
 "cells": [
  {
   "cell_type": "code",
   "execution_count": 2,
   "id": "a3405a05",
   "metadata": {},
   "outputs": [
    {
     "name": "stderr",
     "output_type": "stream",
     "text": [
      "/home/gnz/GitHub/yolo11_container/.venv/lib/python3.12/site-packages/tqdm/auto.py:21: TqdmWarning: IProgress not found. Please update jupyter and ipywidgets. See https://ipywidgets.readthedocs.io/en/stable/user_install.html\n",
      "  from .autonotebook import tqdm as notebook_tqdm\n"
     ]
    }
   ],
   "source": [
    "import os\n",
    "import gradio as gr\n",
    "from ultralytics import YOLO\n",
    "from PIL import Image\n"
   ]
  },
  {
   "cell_type": "code",
   "execution_count": null,
   "id": "335d20e1",
   "metadata": {},
   "outputs": [
    {
     "name": "stdout",
     "output_type": "stream",
     "text": [
      "* Running on local URL:  http://0.0.0.0:7860\n",
      "* To create a public link, set `share=True` in `launch()`.\n"
     ]
    },
    {
     "data": {
      "text/html": [
       "<div><iframe src=\"http://localhost:7860/\" width=\"100%\" height=\"500\" allow=\"autoplay; camera; microphone; clipboard-read; clipboard-write;\" frameborder=\"0\" allowfullscreen></iframe></div>"
      ],
      "text/plain": [
       "<IPython.core.display.HTML object>"
      ]
     },
     "metadata": {},
     "output_type": "display_data"
    },
    {
     "data": {
      "text/plain": []
     },
     "execution_count": 3,
     "metadata": {},
     "output_type": "execute_result"
    },
    {
     "name": "stdout",
     "output_type": "stream",
     "text": [
      "\n",
      "0: 640x640 1 cn-11, 1 iso-type, 293.9ms\n",
      "Speed: 9.3ms preprocess, 293.9ms inference, 14.9ms postprocess per image at shape (1, 3, 640, 640)\n",
      "\n",
      "0: 416x640 2 cn-11s, 1 iso-type, 157.1ms\n",
      "Speed: 4.3ms preprocess, 157.1ms inference, 1.5ms postprocess per image at shape (1, 3, 416, 640)\n",
      "\n",
      "0: 480x640 1 cn-11, 1 iso-type, 249.4ms\n",
      "Speed: 9.0ms preprocess, 249.4ms inference, 0.8ms postprocess per image at shape (1, 3, 480, 640)\n",
      "\n",
      "0: 480x640 1 cn-11, 1 iso-type, 224.3ms\n",
      "Speed: 8.9ms preprocess, 224.3ms inference, 0.9ms postprocess per image at shape (1, 3, 480, 640)\n",
      "\n",
      "0: 512x640 (no detections), 208.5ms\n",
      "Speed: 2.6ms preprocess, 208.5ms inference, 0.7ms postprocess per image at shape (1, 3, 512, 640)\n",
      "\n",
      "0: 480x640 1 cn-11, 1 iso-type, 284.4ms\n",
      "Speed: 8.1ms preprocess, 284.4ms inference, 0.9ms postprocess per image at shape (1, 3, 480, 640)\n",
      "\n",
      "Created dataset file at: .gradio/flagged/dataset1.csv\n",
      "0: 480x640 1 cn-11, 1 iso-type, 159.3ms\n",
      "Speed: 11.7ms preprocess, 159.3ms inference, 2.5ms postprocess per image at shape (1, 3, 480, 640)\n",
      "\n",
      "0: 480x640 1 cn-11, 1 iso-type, 197.9ms\n",
      "Speed: 8.4ms preprocess, 197.9ms inference, 1.8ms postprocess per image at shape (1, 3, 480, 640)\n",
      "\n",
      "0: 448x640 1 cn-4, 1 cn-7, 1 iso-type, 241.4ms\n",
      "Speed: 7.4ms preprocess, 241.4ms inference, 1.1ms postprocess per image at shape (1, 3, 448, 640)\n",
      "\n",
      "0: 384x640 3 cn-11s, 1 cn-4, 1 cn-7, 1 iso-type, 375.8ms\n",
      "Speed: 11.0ms preprocess, 375.8ms inference, 8.2ms postprocess per image at shape (1, 3, 384, 640)\n",
      "\n",
      "0: 416x640 1 cn-11, 1 iso-type, 245.5ms\n",
      "Speed: 9.8ms preprocess, 245.5ms inference, 1.6ms postprocess per image at shape (1, 3, 416, 640)\n",
      "\n",
      "0: 384x640 1 cn-4, 1 cn-7, 1 iso-type, 233.2ms\n",
      "Speed: 8.4ms preprocess, 233.2ms inference, 1.6ms postprocess per image at shape (1, 3, 384, 640)\n",
      "\n",
      "0: 384x640 2 cn-11s, 1 iso-type, 237.4ms\n",
      "Speed: 3.2ms preprocess, 237.4ms inference, 1.9ms postprocess per image at shape (1, 3, 384, 640)\n"
     ]
    }
   ],
   "source": [
    "# Cargar tu modelo entrenado\n",
    "model = YOLO(\"/home/gnz/GitHub/yolo11_container/runs/detect/train2/weights/best.pt\")\n",
    "\n",
    "# Función de predicción\n",
    "def predict(image):\n",
    "    results = model.predict(image, conf=0.25)\n",
    "    # Convertir resultado a PIL para mostrar en Gradio\n",
    "    img_with_boxes = results[0].plot()  # numpy array con bounding boxes\n",
    "    return Image.fromarray(img_with_boxes)\n",
    "\n",
    "# Interfaz Gradio\n",
    "demo = gr.Interface(\n",
    "    fn=predict,\n",
    "    inputs=gr.Image(type=\"pil\"),\n",
    "    outputs=gr.Image(type=\"pil\"),\n",
    "    title=\"Container OCR Detector\",\n",
    "    description=\"Subí una foto de un contenedor y el modelo detectará el código identificador y el ISO type.\"\n",
    ")\n",
    "\n",
    "demo.launch(server_name=\"0.0.0.0\", server_port=7860)\n"
   ]
  }
 ],
 "metadata": {
  "kernelspec": {
   "display_name": ".venv",
   "language": "python",
   "name": "python3"
  },
  "language_info": {
   "codemirror_mode": {
    "name": "ipython",
    "version": 3
   },
   "file_extension": ".py",
   "mimetype": "text/x-python",
   "name": "python",
   "nbconvert_exporter": "python",
   "pygments_lexer": "ipython3",
   "version": "3.12.3"
  }
 },
 "nbformat": 4,
 "nbformat_minor": 5
}
