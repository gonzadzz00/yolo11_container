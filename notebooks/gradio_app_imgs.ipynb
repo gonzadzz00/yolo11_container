{
 "cells": [
  {
   "cell_type": "code",
   "execution_count": null,
   "id": "a3405a05",
   "metadata": {},
   "outputs": [
    {
     "name": "stderr",
     "output_type": "stream",
     "text": [
      "/home/gnz/GitHub/yolo11_container/.venv/lib/python3.12/site-packages/tqdm/auto.py:21: TqdmWarning: IProgress not found. Please update jupyter and ipywidgets. See https://ipywidgets.readthedocs.io/en/stable/user_install.html\n",
      "  from .autonotebook import tqdm as notebook_tqdm\n"
     ]
    }
   ],
   "source": [
    "import os\n",
    "import gradio as gr\n",
    "from ultralytics import YOLO\n",
    "from PIL import Image\n"
   ]
  },
  {
   "cell_type": "code",
   "execution_count": null,
   "id": "335d20e1",
   "metadata": {},
   "outputs": [
    {
     "name": "stdout",
     "output_type": "stream",
     "text": [
      "* Running on local URL:  http://0.0.0.0:7860\n",
      "* To create a public link, set `share=True` in `launch()`.\n"
     ]
    },
    {
     "data": {
      "text/html": [
       "<div><iframe src=\"http://localhost:7860/\" width=\"100%\" height=\"500\" allow=\"autoplay; camera; microphone; clipboard-read; clipboard-write;\" frameborder=\"0\" allowfullscreen></iframe></div>"
      ],
      "text/plain": [
       "<IPython.core.display.HTML object>"
      ]
     },
     "metadata": {},
     "output_type": "display_data"
    },
    {
     "data": {
      "text/plain": []
     },
     "execution_count": 5,
     "metadata": {},
     "output_type": "execute_result"
    },
    {
     "name": "stdout",
     "output_type": "stream",
     "text": [
      "\n",
      "0: 448x640 3 cn-11s, 1 iso-type, 218.6ms\n",
      "Speed: 23.5ms preprocess, 218.6ms inference, 10.6ms postprocess per image at shape (1, 3, 448, 640)\n",
      "\n",
      "0: 448x640 3 cn-11s, 1 iso-type, 210.1ms\n",
      "Speed: 32.3ms preprocess, 210.1ms inference, 6.7ms postprocess per image at shape (1, 3, 448, 640)\n",
      "\n",
      "0: 448x640 3 cn-11s, 1 iso-type, 238.6ms\n",
      "Speed: 7.2ms preprocess, 238.6ms inference, 3.8ms postprocess per image at shape (1, 3, 448, 640)\n",
      "\n",
      "0: 480x640 1 cn-11, 178.3ms\n",
      "Speed: 10.2ms preprocess, 178.3ms inference, 0.6ms postprocess per image at shape (1, 3, 480, 640)\n",
      "\n",
      "0: 448x640 1 cn-11, 1 iso-type, 82.1ms\n",
      "Speed: 3.4ms preprocess, 82.1ms inference, 1.9ms postprocess per image at shape (1, 3, 448, 640)\n",
      "\n",
      "0: 480x640 2 cn-11s, 1 iso-type, 186.9ms\n",
      "Speed: 7.7ms preprocess, 186.9ms inference, 2.9ms postprocess per image at shape (1, 3, 480, 640)\n",
      "\n",
      "0: 480x640 1 cn-11, 165.2ms\n",
      "Speed: 9.0ms preprocess, 165.2ms inference, 5.1ms postprocess per image at shape (1, 3, 480, 640)\n"
     ]
    }
   ],
   "source": [
    "# Cargar tu modelo entrenado\n",
    "model = YOLO(\"/home/gnz/GitHub/yolo11_container/runs/detect/train/weights/best.pt\")\n",
    "\n",
    "# Función de predicción\n",
    "def predict(image):\n",
    "    results = model.predict(image, conf=0.25)\n",
    "    # Convertir resultado a PIL para mostrar en Gradio\n",
    "    img_with_boxes = results[0].plot()  # numpy array con bounding boxes\n",
    "    return Image.fromarray(img_with_boxes)\n",
    "\n",
    "# Interfaz Gradio\n",
    "demo = gr.Interface(\n",
    "    fn=predict,\n",
    "    inputs=gr.Image(type=\"pil\"),\n",
    "    outputs=gr.Image(type=\"pil\"),\n",
    "    title=\"Container OCR Detector\",\n",
    "    description=\"Subí una foto de un contenedor y el modelo detectará el código identificador y el ISO type.\"\n",
    ")\n",
    "\n",
    "demo.launch(server_name=\"0.0.0.0\", server_port=7860)\n"
   ]
  }
 ],
 "metadata": {
  "kernelspec": {
   "display_name": ".venv",
   "language": "python",
   "name": "python3"
  },
  "language_info": {
   "codemirror_mode": {
    "name": "ipython",
    "version": 3
   },
   "file_extension": ".py",
   "mimetype": "text/x-python",
   "name": "python",
   "nbconvert_exporter": "python",
   "pygments_lexer": "ipython3",
   "version": "3.12.3"
  }
 },
 "nbformat": 4,
 "nbformat_minor": 5
}
