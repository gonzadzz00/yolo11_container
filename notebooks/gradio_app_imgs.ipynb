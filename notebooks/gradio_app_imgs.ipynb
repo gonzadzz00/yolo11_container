{
 "cells": [
  {
   "cell_type": "code",
   "execution_count": 2,
   "id": "a3405a05",
   "metadata": {},
   "outputs": [],
   "source": [
    "import os\n",
    "import gradio as gr\n",
    "from ultralytics import YOLO\n",
    "from PIL import Image\n"
   ]
  },
  {
   "cell_type": "code",
   "execution_count": 3,
   "id": "335d20e1",
   "metadata": {},
   "outputs": [
    {
     "name": "stdout",
     "output_type": "stream",
     "text": [
      "* Running on local URL:  http://127.0.0.1:7880\n",
      "* To create a public link, set `share=True` in `launch()`.\n"
     ]
    },
    {
     "data": {
      "text/html": [
       "<div><iframe src=\"http://127.0.0.1:7880/\" width=\"100%\" height=\"500\" allow=\"autoplay; camera; microphone; clipboard-read; clipboard-write;\" frameborder=\"0\" allowfullscreen></iframe></div>"
      ],
      "text/plain": [
       "<IPython.core.display.HTML object>"
      ]
     },
     "metadata": {},
     "output_type": "display_data"
    },
    {
     "data": {
      "text/plain": []
     },
     "execution_count": 3,
     "metadata": {},
     "output_type": "execute_result"
    },
    {
     "name": "stdout",
     "output_type": "stream",
     "text": [
      "\n",
      "0: 448x640 1 cn-4, 1 cn-7, 1 iso-type, 133.8ms\n",
      "Speed: 2.7ms preprocess, 133.8ms inference, 1.9ms postprocess per image at shape (1, 3, 448, 640)\n",
      "\n",
      "0: 480x640 1 cn-11, 1 iso-type, 549.5ms\n",
      "Speed: 59.2ms preprocess, 549.5ms inference, 12.8ms postprocess per image at shape (1, 3, 480, 640)\n"
     ]
    }
   ],
   "source": [
    "# Cargar tu modelo entrenado\n",
    "model = YOLO(\"/home/gnz/GitHub/yolo11_container/runs/detect/train2/weights/best.pt\")\n",
    "\n",
    "# Función de predicción\n",
    "def predict(image):\n",
    "    results = model.predict(image, conf=0.25)\n",
    "    # Convertir resultado a PIL para mostrar en Gradio\n",
    "    img_with_boxes = results[0].plot()  # numpy array con bounding boxes\n",
    "    return Image.fromarray(img_with_boxes)\n",
    "\n",
    "# Interfaz Gradio\n",
    "demo = gr.Interface(\n",
    "    fn=predict,\n",
    "    inputs=gr.Image(type=\"pil\"),\n",
    "    outputs=gr.Image(type=\"pil\"),\n",
    "    title=\"Container OCR Detector\",\n",
    "    description=\"Subí una foto de un contenedor y el modelo detectará el código identificador y el ISO type.\"\n",
    ")\n",
    "\n",
    "demo.launch()\n"
   ]
  }
 ],
 "metadata": {
  "kernelspec": {
   "display_name": ".venv",
   "language": "python",
   "name": "python3"
  },
  "language_info": {
   "codemirror_mode": {
    "name": "ipython",
    "version": 3
   },
   "file_extension": ".py",
   "mimetype": "text/x-python",
   "name": "python",
   "nbconvert_exporter": "python",
   "pygments_lexer": "ipython3",
   "version": "3.12.3"
  }
 },
 "nbformat": 4,
 "nbformat_minor": 5
}
