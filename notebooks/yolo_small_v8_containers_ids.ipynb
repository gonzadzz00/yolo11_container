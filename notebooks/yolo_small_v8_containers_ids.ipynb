{
 "cells": [
  {
   "cell_type": "code",
   "execution_count": null,
   "id": "7246b176",
   "metadata": {},
   "outputs": [],
   "source": [
    "import ultralytics\n",
    "ultralytics.checks()"
   ]
  },
  {
   "cell_type": "code",
   "execution_count": null,
   "id": "43631e75",
   "metadata": {},
   "outputs": [],
   "source": [
    "from ultralytics import YOLO"
   ]
  },
  {
   "cell_type": "code",
   "execution_count": null,
   "id": "3ec4bf83",
   "metadata": {},
   "outputs": [],
   "source": [
    "# Cargar el modelo YOLOv8 small preentrenado\n",
    "model = YOLO(\"yolov8s.pt\")"
   ]
  },
  {
   "cell_type": "code",
   "execution_count": null,
   "id": "1ca104b3",
   "metadata": {},
   "outputs": [],
   "source": [
    "\n",
    "# entrenar con dataset personalizado\n",
    "model.train(\n",
    "    data=\"/home/gonzadzz/GitHub/yolo11_container/enriched_dataset_container-ocr.v1i.yolov8/data.yaml\",\n",
    "    epochs=200,                        # suficiente con dataset grande\n",
    "    patience=50,                       # early stopping\n",
    "    imgsz=640,                         # resolución estándar\n",
    "    batch=32,                          # depende de tu GPU (ajusta a 16 si tenés <10GB VRAM)\n",
    "    device=0,                          # GPU 0\n",
    "    workers=8,                         # carga paralela\n",
    "    cache=True,                        # acelera si tenés RAM\n",
    "    optimizer=\"SGD\",                   # estable para dataset grande\n",
    "    lr0=0.01,                          # learning rate inicial\n",
    "    momentum=0.937,                    # valores por defecto de YOLOv8\n",
    "    weight_decay=0.0005,               # regularización L2\n",
    "    warmup_epochs=3,                   # calentamiento\n",
    "    mosaic=0.5,                        # más alto porque hay dataset grande\n",
    "    mixup=0.1,                         # robustez extra\n",
    "    hsv_h=0.015, hsv_s=0.7, hsv_v=0.4, # augmentations de color\n",
    "    project=\"/home/gonzadzz/GitHub/yolo11_container/YOLO_IDs\",\n",
    "    name=\"ID_YOLO_container\",\n",
    "    exist_ok=False\n",
    ")\n"
   ]
  }
 ],
 "metadata": {
  "language_info": {
   "name": "python"
  }
 },
 "nbformat": 4,
 "nbformat_minor": 5
}
